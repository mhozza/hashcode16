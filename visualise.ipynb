{
 "cells": [
  {
   "cell_type": "code",
   "execution_count": 37,
   "metadata": {
    "collapsed": true
   },
   "outputs": [],
   "source": [
    "import pandas as pd"
   ]
  },
  {
   "cell_type": "code",
   "execution_count": 38,
   "metadata": {
    "collapsed": false
   },
   "outputs": [],
   "source": [
    "import sys\n",
    "import json\n",
    "import seaborn as sns\n",
    "%matplotlib inline\n",
    "\n",
    "#fname = 'mother_of_all_warehouses.in'\n",
    "#fname = 'busy_day.in'\n",
    "fname = 'redundancy.in'\n",
    "with open(fname, 'r') as inputfile:\n",
    "    rows, cols, drones, turns, maxweight = [int(x) \n",
    "            for x in inputfile.readline().split()]\n",
    "    product_count = int(inputfile.readline())\n",
    "    products = [int(x) for x in inputfile.readline().split()]\n",
    "\n",
    "    warehouse_count = int(inputfile.readline())\n",
    "    warehouses = [( \n",
    "        tuple(int(x) for x in inputfile.readline().split()),\n",
    "        [int(x) for x in inputfile.readline().split()]\n",
    "    ) for i in range(0, warehouse_count)]\n",
    "\n",
    "    # Warehouse is a tuple (position, list of item counts (per item id))\n",
    "\n",
    "    orders_count = int(inputfile.readline())\n",
    "    orders = [(\n",
    "        tuple(int(x) for x in inputfile.readline().split()),\n",
    "        int(inputfile.readline()),\n",
    "        [int(x) for x in inputfile.readline().split()]\n",
    "    ) for i in range(0, orders_count)]\n",
    "\n",
    "    # Order is a tuple (position, count of items, list of item ids)    \n",
    "\n",
    "    item_type = 0\n",
    "\n",
    "    colormap = [[0 for i in range(0, cols)] for j in range(0, rows)]\n",
    "    for order in orders:\n",
    "        itemcount = order[2][item_type]\n",
    "        colormap[order[0][0]][order[0][1]] += itemcount\n"
   ]
  },
  {
   "cell_type": "code",
   "execution_count": 39,
   "metadata": {
    "collapsed": false
   },
   "outputs": [
    {
     "data": {
      "text/plain": [
       "(300, 500)"
      ]
     },
     "execution_count": 39,
     "metadata": {},
     "output_type": "execute_result"
    }
   ],
   "source": [
    "rows, cols"
   ]
  },
  {
   "cell_type": "code",
   "execution_count": 40,
   "metadata": {
    "collapsed": false
   },
   "outputs": [],
   "source": [
    "%matplotlib inline"
   ]
  },
  {
   "cell_type": "code",
   "execution_count": 41,
   "metadata": {
    "collapsed": false
   },
   "outputs": [
    {
     "data": {
      "text/plain": [
       "1000"
      ]
     },
     "execution_count": 41,
     "metadata": {},
     "output_type": "execute_result"
    }
   ],
   "source": [
    "orders_count"
   ]
  },
  {
   "cell_type": "code",
   "execution_count": 51,
   "metadata": {
    "collapsed": false
   },
   "outputs": [],
   "source": [
    "edited_map = [[0 for i in range(0, cols//10)] for j in range(0, rows//10)]\n",
    "for order in orders:\n",
    "    itemcount = order[2][item_type]\n",
    "    edited_map[order[0][0]//10][order[0][1]//10] += itemcount\n",
    "    \n",
    "warehouse_map = [[0 for i in range(0, cols//10)] for j in range(0, rows//10)]\n",
    "    \n",
    "for w in warehouses:\n",
    "    posx, posy = w[0]    \n",
    "    warehouse_map[posx//10][posy//10] += 1\n"
   ]
  },
  {
   "cell_type": "code",
   "execution_count": 49,
   "metadata": {
    "collapsed": false
   },
   "outputs": [
    {
     "data": {
      "text/plain": [
       "<matplotlib.axes._subplots.AxesSubplot at 0x7f33d6ef3898>"
      ]
     },
     "execution_count": 49,
     "metadata": {},
     "output_type": "execute_result"
    },
    {
     "data": {
      "image/png": "[encoded data removed]",
      "text/plain": [
       "<matplotlib.figure.Figure at 0x7f33d6ec2940>"
      ]
     },
     "metadata": {},
     "output_type": "display_data"
    }
   ],
   "source": [
    "sns.heatmap(edited_map)"
   ]
  },
  {
   "cell_type": "code",
   "execution_count": 52,
   "metadata": {
    "collapsed": false
   },
   "outputs": [
    {
     "data": {
      "text/plain": [
       "<matplotlib.axes._subplots.AxesSubplot at 0x7f33d6d0c0f0>"
      ]
     },
     "execution_count": 52,
     "metadata": {},
     "output_type": "execute_result"
    },
    {
     "data": {
      "image/png": "[encoded data removed]",
      "text/plain": [
       "<matplotlib.figure.Figure at 0x7f33d6e09cc0>"
      ]
     },
     "metadata": {},
     "output_type": "display_data"
    }
   ],
   "source": [
    "sns.heatmap(warehouse_map)"
   ]
  },
  {
   "cell_type": "code",
   "execution_count": 44,
   "metadata": {
    "collapsed": false
   },
   "outputs": [
    {
     "data": {
      "text/plain": [
       "(300, 500, 30, 145416, 200, 2000, 16, 1000)"
      ]
     },
     "execution_count": 44,
     "metadata": {},
     "output_type": "execute_result"
    }
   ],
   "source": [
    "rows, cols, drones, turns, maxweight, product_count, warehouse_count, orders_count"
   ]
  }
 ],
 "metadata": {
  "kernelspec": {
   "display_name": "Python 3",
   "language": "python",
   "name": "python3"
  },
  "language_info": {
   "codemirror_mode": {
    "name": "ipython",
    "version": 3
   },
   "file_extension": ".py",
   "mimetype": "text/x-python",
   "name": "python",
   "nbconvert_exporter": "python",
   "pygments_lexer": "ipython3",
   "version": "3.4.3"
  }
 },
 "nbformat": 4,
 "nbformat_minor": 0
}
