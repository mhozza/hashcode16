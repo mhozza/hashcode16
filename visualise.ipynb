{
 "cells": [
  {
   "cell_type": "code",
   "execution_count": 7,
   "metadata": {
    "collapsed": false
   },
   "outputs": [],
   "source": [
    "import sys\n",
    "import json\n",
    "import seaborn as sns\n",
    "%matplotlib inline\n",
    "\n",
    "fname = 'busy_day.in'\n",
    "with open(fname, 'r') as inputfile:\n",
    "    rows, cols, drones, turns, maxweight = [int(x) \n",
    "            for x in inputfile.readline().split()]\n",
    "    product_count = int(inputfile.readline())\n",
    "    products = [int(x) for x in inputfile.readline().split()]\n",
    "\n",
    "    warehouse_count = int(inputfile.readline())\n",
    "    warehouses = [( \n",
    "        tuple(int(x) for x in inputfile.readline().split()),\n",
    "        [int(x) for x in inputfile.readline().split()]\n",
    "    ) for i in range(0, warehouse_count)]\n",
    "\n",
    "    # Warehouse is a tuple (position, list of item counts (per item id))\n",
    "\n",
    "    orders_count = int(inputfile.readline())\n",
    "    orders = [(\n",
    "        tuple(int(x) for x in inputfile.readline().split()),\n",
    "        int(inputfile.readline()),\n",
    "        [int(x) for x in inputfile.readline().split()]\n",
    "    ) for i in range(0, orders_count)]\n",
    "\n",
    "    # Order is a tuple (position, count of items, list of item ids)    \n",
    "\n",
    "    item_type = 0\n",
    "\n",
    "    colormap = [[0 for i in range(0, cols)] for j in range(0, rows)]\n",
    "    for order in orders:\n",
    "        itemcount = order[2][item_type]\n",
    "        colormap[order[0][0]][order[0][1]] += itemcount\n",
    "    "
   ]
  },
  {
   "cell_type": "code",
   "execution_count": 6,
   "metadata": {
    "collapsed": false
   },
   "outputs": [],
   "source": [
    "%matplotlib inline"
   ]
  },
  {
   "cell_type": "code",
   "execution_count": null,
   "metadata": {
    "collapsed": false
   },
   "outputs": [
    {
     "data": {
      "text/plain": [
       "<matplotlib.axes._subplots.AxesSubplot at 0x7f3458bcc160>"
      ]
     },
     "execution_count": 8,
     "metadata": {},
     "output_type": "execute_result"
    }
   ],
   "source": [
    "sns.heatmap(colormap, annot=True, fmt=\"d\")"
   ]
  },
  {
   "cell_type": "code",
   "execution_count": null,
   "metadata": {
    "collapsed": true
   },
   "outputs": [],
   "source": []
  }
 ],
 "metadata": {
  "kernelspec": {
   "display_name": "Python 3",
   "language": "python",
   "name": "python3"
  },
  "language_info": {
   "codemirror_mode": {
    "name": "ipython",
    "version": 3
   },
   "file_extension": ".py",
   "mimetype": "text/x-python",
   "name": "python",
   "nbconvert_exporter": "python",
   "pygments_lexer": "ipython3",
   "version": "3.4.3"
  }
 },
 "nbformat": 4,
 "nbformat_minor": 0
}
